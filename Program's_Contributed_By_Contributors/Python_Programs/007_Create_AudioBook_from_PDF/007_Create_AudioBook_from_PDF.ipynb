{
 "cells": [
  {
   "cell_type": "code",
   "execution_count": 3,
   "metadata": {},
   "outputs": [
    {
     "ename": "DeprecationError",
     "evalue": "PdfFileReader is deprecated and was removed in PyPDF2 3.0.0. Use PdfReader instead.",
     "output_type": "error",
     "traceback": [
      "\u001b[1;31m---------------------------------------------------------------------------\u001b[0m",
      "\u001b[1;31mDeprecationError\u001b[0m                          Traceback (most recent call last)",
      "\u001b[1;32md:\\91_Python_Mini_Projects-main\\91_Python_Mini_Projects-main\\007_Create_AudioBook_from_PDF\\007_Create_AudioBook_from_PDF.ipynb Cell 1\u001b[0m line \u001b[0;36m9\n\u001b[0;32m      <a href='vscode-notebook-cell:/d%3A/91_Python_Mini_Projects-main/91_Python_Mini_Projects-main/007_Create_AudioBook_from_PDF/007_Create_AudioBook_from_PDF.ipynb#W4sZmlsZQ%3D%3D?line=5'>6</a>\u001b[0m book \u001b[39m=\u001b[39m \u001b[39mopen\u001b[39m(\u001b[39m'\u001b[39m\u001b[39mdemo.pdf\u001b[39m\u001b[39m'\u001b[39m, \u001b[39m'\u001b[39m\u001b[39mrb\u001b[39m\u001b[39m'\u001b[39m)  \u001b[39m# 'rb' stands for reading mode\u001b[39;00m\n\u001b[0;32m      <a href='vscode-notebook-cell:/d%3A/91_Python_Mini_Projects-main/91_Python_Mini_Projects-main/007_Create_AudioBook_from_PDF/007_Create_AudioBook_from_PDF.ipynb#W4sZmlsZQ%3D%3D?line=7'>8</a>\u001b[0m \u001b[39m# Call PyPDF2's PdfFileReader method on book and store it into pdf_reader\u001b[39;00m\n\u001b[1;32m----> <a href='vscode-notebook-cell:/d%3A/91_Python_Mini_Projects-main/91_Python_Mini_Projects-main/007_Create_AudioBook_from_PDF/007_Create_AudioBook_from_PDF.ipynb#W4sZmlsZQ%3D%3D?line=8'>9</a>\u001b[0m pdf_reader \u001b[39m=\u001b[39m PyPDF2\u001b[39m.\u001b[39;49mPdfFileReader(book)\n\u001b[0;32m     <a href='vscode-notebook-cell:/d%3A/91_Python_Mini_Projects-main/91_Python_Mini_Projects-main/007_Create_AudioBook_from_PDF/007_Create_AudioBook_from_PDF.ipynb#W4sZmlsZQ%3D%3D?line=10'>11</a>\u001b[0m \u001b[39m# Calculate the number of pages in our pdf by using numPages method\u001b[39;00m\n\u001b[0;32m     <a href='vscode-notebook-cell:/d%3A/91_Python_Mini_Projects-main/91_Python_Mini_Projects-main/007_Create_AudioBook_from_PDF/007_Create_AudioBook_from_PDF.ipynb#W4sZmlsZQ%3D%3D?line=11'>12</a>\u001b[0m num_pages \u001b[39m=\u001b[39m pdf_reader\u001b[39m.\u001b[39mnumPages\n",
      "File \u001b[1;32mc:\\Users\\amitv\\AppData\\Local\\Programs\\Python\\Python311\\Lib\\site-packages\\PyPDF2\\_reader.py:1974\u001b[0m, in \u001b[0;36mPdfFileReader.__init__\u001b[1;34m(self, *args, **kwargs)\u001b[0m\n\u001b[0;32m   1973\u001b[0m \u001b[39mdef\u001b[39;00m \u001b[39m__init__\u001b[39m(\u001b[39mself\u001b[39m, \u001b[39m*\u001b[39margs: Any, \u001b[39m*\u001b[39m\u001b[39m*\u001b[39mkwargs: Any) \u001b[39m-\u001b[39m\u001b[39m>\u001b[39m \u001b[39mNone\u001b[39;00m:\n\u001b[1;32m-> 1974\u001b[0m     deprecation_with_replacement(\u001b[39m\"\u001b[39;49m\u001b[39mPdfFileReader\u001b[39;49m\u001b[39m\"\u001b[39;49m, \u001b[39m\"\u001b[39;49m\u001b[39mPdfReader\u001b[39;49m\u001b[39m\"\u001b[39;49m, \u001b[39m\"\u001b[39;49m\u001b[39m3.0.0\u001b[39;49m\u001b[39m\"\u001b[39;49m)\n\u001b[0;32m   1975\u001b[0m     \u001b[39mif\u001b[39;00m \u001b[39m\"\u001b[39m\u001b[39mstrict\u001b[39m\u001b[39m\"\u001b[39m \u001b[39mnot\u001b[39;00m \u001b[39min\u001b[39;00m kwargs \u001b[39mand\u001b[39;00m \u001b[39mlen\u001b[39m(args) \u001b[39m<\u001b[39m \u001b[39m2\u001b[39m:\n\u001b[0;32m   1976\u001b[0m         kwargs[\u001b[39m\"\u001b[39m\u001b[39mstrict\u001b[39m\u001b[39m\"\u001b[39m] \u001b[39m=\u001b[39m \u001b[39mTrue\u001b[39;00m  \u001b[39m# maintain the default\u001b[39;00m\n",
      "File \u001b[1;32mc:\\Users\\amitv\\AppData\\Local\\Programs\\Python\\Python311\\Lib\\site-packages\\PyPDF2\\_utils.py:369\u001b[0m, in \u001b[0;36mdeprecation_with_replacement\u001b[1;34m(old_name, new_name, removed_in)\u001b[0m\n\u001b[0;32m    363\u001b[0m \u001b[39mdef\u001b[39;00m \u001b[39mdeprecation_with_replacement\u001b[39m(\n\u001b[0;32m    364\u001b[0m     old_name: \u001b[39mstr\u001b[39m, new_name: \u001b[39mstr\u001b[39m, removed_in: \u001b[39mstr\u001b[39m \u001b[39m=\u001b[39m \u001b[39m\"\u001b[39m\u001b[39m3.0.0\u001b[39m\u001b[39m\"\u001b[39m\n\u001b[0;32m    365\u001b[0m ) \u001b[39m-\u001b[39m\u001b[39m>\u001b[39m \u001b[39mNone\u001b[39;00m:\n\u001b[0;32m    366\u001b[0m \u001b[39m    \u001b[39m\u001b[39m\"\"\"\u001b[39;00m\n\u001b[0;32m    367\u001b[0m \u001b[39m    Raise an exception that a feature was already removed, but has a replacement.\u001b[39;00m\n\u001b[0;32m    368\u001b[0m \u001b[39m    \"\"\"\u001b[39;00m\n\u001b[1;32m--> 369\u001b[0m     deprecation(DEPR_MSG_HAPPENED\u001b[39m.\u001b[39;49mformat(old_name, removed_in, new_name))\n",
      "File \u001b[1;32mc:\\Users\\amitv\\AppData\\Local\\Programs\\Python\\Python311\\Lib\\site-packages\\PyPDF2\\_utils.py:351\u001b[0m, in \u001b[0;36mdeprecation\u001b[1;34m(msg)\u001b[0m\n\u001b[0;32m    350\u001b[0m \u001b[39mdef\u001b[39;00m \u001b[39mdeprecation\u001b[39m(msg: \u001b[39mstr\u001b[39m) \u001b[39m-\u001b[39m\u001b[39m>\u001b[39m \u001b[39mNone\u001b[39;00m:\n\u001b[1;32m--> 351\u001b[0m     \u001b[39mraise\u001b[39;00m DeprecationError(msg)\n",
      "\u001b[1;31mDeprecationError\u001b[0m: PdfFileReader is deprecated and was removed in PyPDF2 3.0.0. Use PdfReader instead."
     ]
    }
   ],
   "source": [
    "# Import the necessary modules\n",
    "import pyttsx3\n",
    "import PyPDF2\n",
    "\n",
    "# Open our file in reading mode and store it into book\n",
    "book = open('demo.pdf', 'rb')  # 'rb' stands for reading mode\n",
    "\n",
    "# Call PyPDF2's PdfFileReader method on book and store it into pdf_reader\n",
    "pdf_reader = PyPDF2.PdfFileReader(book)\n",
    "\n",
    "# Calculate the number of pages in our pdf by using numPages method\n",
    "num_pages = pdf_reader.numPages\n",
    "\n",
    "# Initialize pyttsx3 using init method and print \"Playing Audiobook\"\n",
    "play = pyttsx3.init()\n",
    "print('Playing Audiobook')\n",
    "\n",
    "# Run a loop for the number of pages in our pdf file.\n",
    "# A page will get retrieved at each iteration.\n",
    "for num in range(0, num_pages):\n",
    "    page = pdf_reader.getPage(num)\n",
    "    \n",
    "    # Extract the text from our page using extractText method on our page and store it into data.\n",
    "    data = page.extractText()\n",
    "\n",
    "    # Call say method on data and finally we can call runAndWait method at the end.\n",
    "    play.say(data)\n",
    "\n",
    "# Call runAndWait method at the end to play the entire audiobook\n",
    "play.runAndWait()\n",
    "\n",
    "# Close the PDF file\n",
    "book.close()\n"
   ]
  }
 ],
 "metadata": {
  "hide_input": false,
  "kernelspec": {
   "display_name": "Python 3",
   "language": "python",
   "name": "python3"
  },
  "language_info": {
   "codemirror_mode": {
    "name": "ipython",
    "version": 3
   },
   "file_extension": ".py",
   "mimetype": "text/x-python",
   "name": "python",
   "nbconvert_exporter": "python",
   "pygments_lexer": "ipython3",
   "version": "3.11.4"
  },
  "toc": {
   "base_numbering": 1,
   "nav_menu": {},
   "number_sections": true,
   "sideBar": true,
   "skip_h1_title": false,
   "title_cell": "Table of Contents",
   "title_sidebar": "Contents",
   "toc_cell": false,
   "toc_position": {},
   "toc_section_display": true,
   "toc_window_display": false
  },
  "varInspector": {
   "cols": {
    "lenName": 16,
    "lenType": 16,
    "lenVar": 40
   },
   "kernels_config": {
    "python": {
     "delete_cmd_postfix": "",
     "delete_cmd_prefix": "del ",
     "library": "var_list.py",
     "varRefreshCmd": "print(var_dic_list())"
    },
    "r": {
     "delete_cmd_postfix": ") ",
     "delete_cmd_prefix": "rm(",
     "library": "var_list.r",
     "varRefreshCmd": "cat(var_dic_list()) "
    }
   },
   "types_to_exclude": [
    "module",
    "function",
    "builtin_function_or_method",
    "instance",
    "_Feature"
   ],
   "window_display": false
  }
 },
 "nbformat": 4,
 "nbformat_minor": 2
}
